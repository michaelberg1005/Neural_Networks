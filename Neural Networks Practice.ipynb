{
 "cells": [
  {
   "cell_type": "code",
   "execution_count": 1,
   "metadata": {},
   "outputs": [
    {
     "name": "stderr",
     "output_type": "stream",
     "text": [
      "C:\\Users\\michael1005\\anaconda3\\envs\\PythonData\\lib\\site-packages\\tensorflow\\python\\framework\\dtypes.py:516: FutureWarning: Passing (type, 1) or '1type' as a synonym of type is deprecated; in a future version of numpy, it will be understood as (type, (1,)) / '(1,)type'.\n",
      "  _np_qint8 = np.dtype([(\"qint8\", np.int8, 1)])\n",
      "C:\\Users\\michael1005\\anaconda3\\envs\\PythonData\\lib\\site-packages\\tensorflow\\python\\framework\\dtypes.py:517: FutureWarning: Passing (type, 1) or '1type' as a synonym of type is deprecated; in a future version of numpy, it will be understood as (type, (1,)) / '(1,)type'.\n",
      "  _np_quint8 = np.dtype([(\"quint8\", np.uint8, 1)])\n",
      "C:\\Users\\michael1005\\anaconda3\\envs\\PythonData\\lib\\site-packages\\tensorflow\\python\\framework\\dtypes.py:518: FutureWarning: Passing (type, 1) or '1type' as a synonym of type is deprecated; in a future version of numpy, it will be understood as (type, (1,)) / '(1,)type'.\n",
      "  _np_qint16 = np.dtype([(\"qint16\", np.int16, 1)])\n",
      "C:\\Users\\michael1005\\anaconda3\\envs\\PythonData\\lib\\site-packages\\tensorflow\\python\\framework\\dtypes.py:519: FutureWarning: Passing (type, 1) or '1type' as a synonym of type is deprecated; in a future version of numpy, it will be understood as (type, (1,)) / '(1,)type'.\n",
      "  _np_quint16 = np.dtype([(\"quint16\", np.uint16, 1)])\n",
      "C:\\Users\\michael1005\\anaconda3\\envs\\PythonData\\lib\\site-packages\\tensorflow\\python\\framework\\dtypes.py:520: FutureWarning: Passing (type, 1) or '1type' as a synonym of type is deprecated; in a future version of numpy, it will be understood as (type, (1,)) / '(1,)type'.\n",
      "  _np_qint32 = np.dtype([(\"qint32\", np.int32, 1)])\n",
      "C:\\Users\\michael1005\\anaconda3\\envs\\PythonData\\lib\\site-packages\\tensorflow\\python\\framework\\dtypes.py:525: FutureWarning: Passing (type, 1) or '1type' as a synonym of type is deprecated; in a future version of numpy, it will be understood as (type, (1,)) / '(1,)type'.\n",
      "  np_resource = np.dtype([(\"resource\", np.ubyte, 1)])\n",
      "C:\\Users\\michael1005\\anaconda3\\envs\\PythonData\\lib\\site-packages\\tensorboard\\compat\\tensorflow_stub\\dtypes.py:541: FutureWarning: Passing (type, 1) or '1type' as a synonym of type is deprecated; in a future version of numpy, it will be understood as (type, (1,)) / '(1,)type'.\n",
      "  _np_qint8 = np.dtype([(\"qint8\", np.int8, 1)])\n",
      "C:\\Users\\michael1005\\anaconda3\\envs\\PythonData\\lib\\site-packages\\tensorboard\\compat\\tensorflow_stub\\dtypes.py:542: FutureWarning: Passing (type, 1) or '1type' as a synonym of type is deprecated; in a future version of numpy, it will be understood as (type, (1,)) / '(1,)type'.\n",
      "  _np_quint8 = np.dtype([(\"quint8\", np.uint8, 1)])\n",
      "C:\\Users\\michael1005\\anaconda3\\envs\\PythonData\\lib\\site-packages\\tensorboard\\compat\\tensorflow_stub\\dtypes.py:543: FutureWarning: Passing (type, 1) or '1type' as a synonym of type is deprecated; in a future version of numpy, it will be understood as (type, (1,)) / '(1,)type'.\n",
      "  _np_qint16 = np.dtype([(\"qint16\", np.int16, 1)])\n",
      "C:\\Users\\michael1005\\anaconda3\\envs\\PythonData\\lib\\site-packages\\tensorboard\\compat\\tensorflow_stub\\dtypes.py:544: FutureWarning: Passing (type, 1) or '1type' as a synonym of type is deprecated; in a future version of numpy, it will be understood as (type, (1,)) / '(1,)type'.\n",
      "  _np_quint16 = np.dtype([(\"quint16\", np.uint16, 1)])\n",
      "C:\\Users\\michael1005\\anaconda3\\envs\\PythonData\\lib\\site-packages\\tensorboard\\compat\\tensorflow_stub\\dtypes.py:545: FutureWarning: Passing (type, 1) or '1type' as a synonym of type is deprecated; in a future version of numpy, it will be understood as (type, (1,)) / '(1,)type'.\n",
      "  _np_qint32 = np.dtype([(\"qint32\", np.int32, 1)])\n",
      "C:\\Users\\michael1005\\anaconda3\\envs\\PythonData\\lib\\site-packages\\tensorboard\\compat\\tensorflow_stub\\dtypes.py:550: FutureWarning: Passing (type, 1) or '1type' as a synonym of type is deprecated; in a future version of numpy, it will be understood as (type, (1,)) / '(1,)type'.\n",
      "  np_resource = np.dtype([(\"resource\", np.ubyte, 1)])\n"
     ]
    }
   ],
   "source": [
    "# Import our dependencies\n",
    "import pandas as pd\n",
    "import matplotlib as plt\n",
    "from sklearn.datasets import make_blobs\n",
    "import sklearn as skl\n",
    "import tensorflow as tf"
   ]
  },
  {
   "cell_type": "code",
   "execution_count": 2,
   "metadata": {},
   "outputs": [
    {
     "data": {
      "text/plain": [
       "<matplotlib.axes._subplots.AxesSubplot at 0x1a658084e08>"
      ]
     },
     "execution_count": 2,
     "metadata": {},
     "output_type": "execute_result"
    },
    {
     "data": {
      "image/png": "[encoded data removed]",
      "text/plain": [
       "<Figure size 432x288 with 2 Axes>"
      ]
     },
     "metadata": {
      "needs_background": "light"
     },
     "output_type": "display_data"
    }
   ],
   "source": [
    "# Generate dummy dataset\n",
    "X, y = make_blobs(n_samples=1000, centers=2, n_features=2, random_state=78)\n",
    "\n",
    "# Creating a DataFrame with the dummy data\n",
    "df = pd.DataFrame(X, columns=[\"Feature 1\", \"Feature 2\"])\n",
    "df[\"Target\"] = y\n",
    "\n",
    "# Plotting the dummy data\n",
    "df.plot.scatter(x=\"Feature 1\", y=\"Feature 2\", c=\"Target\", colormap=\"winter\")"
   ]
  },
  {
   "cell_type": "code",
   "execution_count": 4,
   "metadata": {},
   "outputs": [],
   "source": [
    "#Use sklearn to split dataset\n",
    "from sklearn.model_selection import train_test_split\n",
    "X_train, X_test, y_train, y_test = train_test_split(X, y, random_state=78)"
   ]
  },
  {
   "cell_type": "code",
   "execution_count": 5,
   "metadata": {},
   "outputs": [],
   "source": [
    "# Create scaler instance\n",
    "X_scaler = skl.preprocessing.StandardScaler()\n",
    "\n",
    "# Fit the scaler\n",
    "X_scaler.fit(X_train)\n",
    "\n",
    "# Scale the data\n",
    "X_train_scaled = X_scaler.transform(X_train)\n",
    "X_test_scaled = X_scaler.transform(X_test)"
   ]
  },
  {
   "cell_type": "code",
   "execution_count": 6,
   "metadata": {},
   "outputs": [],
   "source": [
    "# Create the Keras Sequential model\n",
    "nn_model = tf.keras.models.Sequential()"
   ]
  },
  {
   "cell_type": "code",
   "execution_count": 7,
   "metadata": {},
   "outputs": [
    {
     "name": "stdout",
     "output_type": "stream",
     "text": [
      "WARNING:tensorflow:From C:\\Users\\michael1005\\anaconda3\\envs\\PythonData\\lib\\site-packages\\tensorflow\\python\\ops\\init_ops.py:1251: calling VarianceScaling.__init__ (from tensorflow.python.ops.init_ops) with dtype is deprecated and will be removed in a future version.\n",
      "Instructions for updating:\n",
      "Call initializer instance with the dtype argument instead of passing it to the constructor\n"
     ]
    }
   ],
   "source": [
    "#Add our first Dense layer, including the input layer\n",
    "nn_model.add(tf.keras.layers.Dense(units=1, activation=\"relu\", input_dim=2))"
   ]
  },
  {
   "cell_type": "code",
   "execution_count": 8,
   "metadata": {},
   "outputs": [],
   "source": [
    "# Add the output layer that uses a probability activation function\n",
    "nn_model.add(tf.keras.layers.Dense(units=1, activation=\"sigmoid\"))"
   ]
  },
  {
   "cell_type": "code",
   "execution_count": 9,
   "metadata": {},
   "outputs": [
    {
     "name": "stdout",
     "output_type": "stream",
     "text": [
      "Model: \"sequential\"\n",
      "_________________________________________________________________\n",
      "Layer (type)                 Output Shape              Param #   \n",
      "=================================================================\n",
      "dense (Dense)                (None, 1)                 3         \n",
      "_________________________________________________________________\n",
      "dense_1 (Dense)              (None, 1)                 2         \n",
      "=================================================================\n",
      "Total params: 5\n",
      "Trainable params: 5\n",
      "Non-trainable params: 0\n",
      "_________________________________________________________________\n"
     ]
    }
   ],
   "source": [
    "# Check the structure of the Sequential model\n",
    "nn_model.summary()"
   ]
  },
  {
   "cell_type": "code",
   "execution_count": 10,
   "metadata": {},
   "outputs": [
    {
     "name": "stdout",
     "output_type": "stream",
     "text": [
      "WARNING:tensorflow:From C:\\Users\\michael1005\\anaconda3\\envs\\PythonData\\lib\\site-packages\\tensorflow\\python\\ops\\nn_impl.py:180: add_dispatch_support.<locals>.wrapper (from tensorflow.python.ops.array_ops) is deprecated and will be removed in a future version.\n",
      "Instructions for updating:\n",
      "Use tf.where in 2.0, which has the same broadcast rule as np.where\n"
     ]
    }
   ],
   "source": [
    "# Compile the Sequential model together and customize metrics\n",
    "nn_model.compile(loss=\"binary_crossentropy\", optimizer=\"adam\", metrics=[\"accuracy\"])"
   ]
  },
  {
   "cell_type": "code",
   "execution_count": 11,
   "metadata": {},
   "outputs": [
    {
     "name": "stdout",
     "output_type": "stream",
     "text": [
      "Epoch 1/100\n",
      "750/750 [==============================] - 0s 294us/sample - loss: 0.6979 - acc: 0.0333\n",
      "Epoch 2/100\n",
      "750/750 [==============================] - 0s 51us/sample - loss: 0.6940 - acc: 0.2667\n",
      "Epoch 3/100\n",
      "750/750 [==============================] - 0s 52us/sample - loss: 0.6905 - acc: 0.5067\n",
      "Epoch 4/100\n",
      "750/750 [==============================] - 0s 60us/sample - loss: 0.6864 - acc: 0.5067\n",
      "Epoch 5/100\n",
      "750/750 [==============================] - 0s 69us/sample - loss: 0.6809 - acc: 0.5067\n",
      "Epoch 6/100\n",
      "750/750 [==============================] - 0s 64us/sample - loss: 0.6734 - acc: 0.5067\n",
      "Epoch 7/100\n",
      "750/750 [==============================] - 0s 64us/sample - loss: 0.6642 - acc: 0.5067\n",
      "Epoch 8/100\n",
      "750/750 [==============================] - 0s 62us/sample - loss: 0.6531 - acc: 0.6600\n",
      "Epoch 9/100\n",
      "750/750 [==============================] - 0s 70us/sample - loss: 0.6403 - acc: 1.0000\n",
      "Epoch 10/100\n",
      "750/750 [==============================] - 0s 51us/sample - loss: 0.6265 - acc: 1.0000\n",
      "Epoch 11/100\n",
      "750/750 [==============================] - 0s 61us/sample - loss: 0.6114 - acc: 1.0000\n",
      "Epoch 12/100\n",
      "750/750 [==============================] - 0s 61us/sample - loss: 0.5954 - acc: 1.0000\n",
      "Epoch 13/100\n",
      "750/750 [==============================] - 0s 65us/sample - loss: 0.5788 - acc: 1.0000\n",
      "Epoch 14/100\n",
      "750/750 [==============================] - 0s 56us/sample - loss: 0.5617 - acc: 1.0000\n",
      "Epoch 15/100\n",
      "750/750 [==============================] - 0s 65us/sample - loss: 0.5445 - acc: 1.0000\n",
      "Epoch 16/100\n",
      "750/750 [==============================] - 0s 65us/sample - loss: 0.5270 - acc: 1.0000\n",
      "Epoch 17/100\n",
      "750/750 [==============================] - 0s 69us/sample - loss: 0.5097 - acc: 1.0000\n",
      "Epoch 18/100\n",
      "750/750 [==============================] - 0s 93us/sample - loss: 0.4926 - acc: 1.0000\n",
      "Epoch 19/100\n",
      "750/750 [==============================] - 0s 94us/sample - loss: 0.4759 - acc: 1.0000\n",
      "Epoch 20/100\n",
      "750/750 [==============================] - 0s 64us/sample - loss: 0.4596 - acc: 1.0000\n",
      "Epoch 21/100\n",
      "750/750 [==============================] - 0s 53us/sample - loss: 0.4437 - acc: 1.0000\n",
      "Epoch 22/100\n",
      "750/750 [==============================] - 0s 65us/sample - loss: 0.4284 - acc: 1.0000\n",
      "Epoch 23/100\n",
      "750/750 [==============================] - 0s 68us/sample - loss: 0.4136 - acc: 1.0000\n",
      "Epoch 24/100\n",
      "750/750 [==============================] - 0s 64us/sample - loss: 0.3995 - acc: 1.0000\n",
      "Epoch 25/100\n",
      "750/750 [==============================] - 0s 69us/sample - loss: 0.3859 - acc: 1.0000\n",
      "Epoch 26/100\n",
      "750/750 [==============================] - 0s 68us/sample - loss: 0.3730 - acc: 1.0000\n",
      "Epoch 27/100\n",
      "750/750 [==============================] - 0s 77us/sample - loss: 0.3606 - acc: 1.0000\n",
      "Epoch 28/100\n",
      "750/750 [==============================] - 0s 76us/sample - loss: 0.3488 - acc: 1.0000\n",
      "Epoch 29/100\n",
      "750/750 [==============================] - 0s 65us/sample - loss: 0.3376 - acc: 1.0000\n",
      "Epoch 30/100\n",
      "750/750 [==============================] - 0s 60us/sample - loss: 0.3269 - acc: 1.0000\n",
      "Epoch 31/100\n",
      "750/750 [==============================] - 0s 64us/sample - loss: 0.3166 - acc: 1.0000\n",
      "Epoch 32/100\n",
      "750/750 [==============================] - 0s 64us/sample - loss: 0.3069 - acc: 1.0000\n",
      "Epoch 33/100\n",
      "750/750 [==============================] - 0s 53us/sample - loss: 0.2976 - acc: 1.0000\n",
      "Epoch 34/100\n",
      "750/750 [==============================] - 0s 57us/sample - loss: 0.2888 - acc: 1.0000\n",
      "Epoch 35/100\n",
      "750/750 [==============================] - 0s 64us/sample - loss: 0.2804 - acc: 1.0000\n",
      "Epoch 36/100\n",
      "750/750 [==============================] - 0s 69us/sample - loss: 0.2724 - acc: 1.0000\n",
      "Epoch 37/100\n",
      "750/750 [==============================] - 0s 61us/sample - loss: 0.2647 - acc: 1.0000\n",
      "Epoch 38/100\n",
      "750/750 [==============================] - 0s 51us/sample - loss: 0.2574 - acc: 1.0000\n",
      "Epoch 39/100\n",
      "750/750 [==============================] - 0s 61us/sample - loss: 0.2504 - acc: 1.0000\n",
      "Epoch 40/100\n",
      "750/750 [==============================] - 0s 47us/sample - loss: 0.2437 - acc: 1.0000\n",
      "Epoch 41/100\n",
      "750/750 [==============================] - 0s 77us/sample - loss: 0.2373 - acc: 1.0000\n",
      "Epoch 42/100\n",
      "750/750 [==============================] - 0s 60us/sample - loss: 0.2312 - acc: 1.0000\n",
      "Epoch 43/100\n",
      "750/750 [==============================] - 0s 76us/sample - loss: 0.2253 - acc: 1.0000\n",
      "Epoch 44/100\n",
      "750/750 [==============================] - 0s 81us/sample - loss: 0.2197 - acc: 1.0000\n",
      "Epoch 45/100\n",
      "750/750 [==============================] - 0s 49us/sample - loss: 0.2142 - acc: 1.0000\n",
      "Epoch 46/100\n",
      "750/750 [==============================] - 0s 73us/sample - loss: 0.2090 - acc: 1.0000\n",
      "Epoch 47/100\n",
      "750/750 [==============================] - 0s 55us/sample - loss: 0.2040 - acc: 1.0000\n",
      "Epoch 48/100\n",
      "750/750 [==============================] - 0s 65us/sample - loss: 0.1992 - acc: 1.0000\n",
      "Epoch 49/100\n",
      "750/750 [==============================] - 0s 63us/sample - loss: 0.1945 - acc: 1.0000\n",
      "Epoch 50/100\n",
      "750/750 [==============================] - 0s 60us/sample - loss: 0.1901 - acc: 1.0000\n",
      "Epoch 51/100\n",
      "750/750 [==============================] - 0s 69us/sample - loss: 0.1857 - acc: 1.0000\n",
      "Epoch 52/100\n",
      "750/750 [==============================] - 0s 80us/sample - loss: 0.1816 - acc: 1.0000\n",
      "Epoch 53/100\n",
      "750/750 [==============================] - 0s 69us/sample - loss: 0.1776 - acc: 1.0000\n",
      "Epoch 54/100\n",
      "750/750 [==============================] - 0s 55us/sample - loss: 0.1737 - acc: 1.0000\n",
      "Epoch 55/100\n",
      "750/750 [==============================] - 0s 80us/sample - loss: 0.1700 - acc: 1.0000\n",
      "Epoch 56/100\n",
      "750/750 [==============================] - 0s 66us/sample - loss: 0.1663 - acc: 1.0000\n",
      "Epoch 57/100\n",
      "750/750 [==============================] - 0s 52us/sample - loss: 0.1629 - acc: 1.0000\n",
      "Epoch 58/100\n",
      "750/750 [==============================] - 0s 58us/sample - loss: 0.1595 - acc: 1.0000\n",
      "Epoch 59/100\n",
      "750/750 [==============================] - 0s 61us/sample - loss: 0.1562 - acc: 1.0000\n",
      "Epoch 60/100\n",
      "750/750 [==============================] - ETA: 0s - loss: 0.1277 - acc: 1.000 - 0s 47us/sample - loss: 0.1530 - acc: 1.0000\n",
      "Epoch 61/100\n",
      "750/750 [==============================] - 0s 70us/sample - loss: 0.1500 - acc: 1.0000\n",
      "Epoch 62/100\n",
      "750/750 [==============================] - 0s 89us/sample - loss: 0.1469 - acc: 1.0000\n",
      "Epoch 63/100\n",
      "750/750 [==============================] - 0s 62us/sample - loss: 0.1440 - acc: 1.0000\n",
      "Epoch 64/100\n",
      "750/750 [==============================] - 0s 64us/sample - loss: 0.1412 - acc: 1.0000\n",
      "Epoch 65/100\n",
      "750/750 [==============================] - 0s 61us/sample - loss: 0.1385 - acc: 1.0000\n",
      "Epoch 66/100\n",
      "750/750 [==============================] - 0s 61us/sample - loss: 0.1359 - acc: 1.0000\n",
      "Epoch 67/100\n",
      "750/750 [==============================] - 0s 60us/sample - loss: 0.1333 - acc: 1.0000\n",
      "Epoch 68/100\n",
      "750/750 [==============================] - 0s 64us/sample - loss: 0.1308 - acc: 1.0000\n",
      "Epoch 69/100\n",
      "750/750 [==============================] - 0s 57us/sample - loss: 0.1283 - acc: 1.0000\n",
      "Epoch 70/100\n",
      "750/750 [==============================] - 0s 64us/sample - loss: 0.1260 - acc: 1.0000\n",
      "Epoch 71/100\n",
      "750/750 [==============================] - 0s 64us/sample - loss: 0.1236 - acc: 1.0000\n",
      "Epoch 72/100\n",
      "750/750 [==============================] - 0s 78us/sample - loss: 0.1214 - acc: 1.0000\n",
      "Epoch 73/100\n",
      "750/750 [==============================] - 0s 65us/sample - loss: 0.1192 - acc: 1.0000\n",
      "Epoch 74/100\n",
      "750/750 [==============================] - 0s 65us/sample - loss: 0.1171 - acc: 1.0000\n",
      "Epoch 75/100\n",
      "750/750 [==============================] - 0s 62us/sample - loss: 0.1150 - acc: 1.0000\n",
      "Epoch 76/100\n",
      "750/750 [==============================] - 0s 69us/sample - loss: 0.1129 - acc: 1.0000\n",
      "Epoch 77/100\n",
      "750/750 [==============================] - 0s 68us/sample - loss: 0.1109 - acc: 1.0000\n",
      "Epoch 78/100\n",
      "750/750 [==============================] - 0s 62us/sample - loss: 0.1090 - acc: 1.0000\n",
      "Epoch 79/100\n",
      "750/750 [==============================] - 0s 55us/sample - loss: 0.1071 - acc: 1.0000\n",
      "Epoch 80/100\n",
      "750/750 [==============================] - 0s 49us/sample - loss: 0.1053 - acc: 1.0000\n",
      "Epoch 81/100\n",
      "750/750 [==============================] - 0s 56us/sample - loss: 0.1035 - acc: 1.0000\n",
      "Epoch 82/100\n"
     ]
    },
    {
     "name": "stdout",
     "output_type": "stream",
     "text": [
      "750/750 [==============================] - 0s 58us/sample - loss: 0.1017 - acc: 1.0000\n",
      "Epoch 83/100\n",
      "750/750 [==============================] - 0s 64us/sample - loss: 0.1000 - acc: 1.0000\n",
      "Epoch 84/100\n",
      "750/750 [==============================] - 0s 64us/sample - loss: 0.0983 - acc: 1.0000\n",
      "Epoch 85/100\n",
      "750/750 [==============================] - 0s 52us/sample - loss: 0.0967 - acc: 1.0000\n",
      "Epoch 86/100\n",
      "750/750 [==============================] - 0s 47us/sample - loss: 0.0951 - acc: 1.0000\n",
      "Epoch 87/100\n",
      "750/750 [==============================] - 0s 45us/sample - loss: 0.0936 - acc: 1.0000\n",
      "Epoch 88/100\n",
      "750/750 [==============================] - 0s 53us/sample - loss: 0.0920 - acc: 1.0000\n",
      "Epoch 89/100\n",
      "750/750 [==============================] - 0s 45us/sample - loss: 0.0905 - acc: 1.0000\n",
      "Epoch 90/100\n",
      "750/750 [==============================] - 0s 52us/sample - loss: 0.0891 - acc: 1.0000\n",
      "Epoch 91/100\n",
      "750/750 [==============================] - 0s 48us/sample - loss: 0.0876 - acc: 1.0000\n",
      "Epoch 92/100\n",
      "750/750 [==============================] - 0s 49us/sample - loss: 0.0862 - acc: 1.0000\n",
      "Epoch 93/100\n",
      "750/750 [==============================] - 0s 49us/sample - loss: 0.0849 - acc: 1.0000\n",
      "Epoch 94/100\n",
      "750/750 [==============================] - 0s 56us/sample - loss: 0.0835 - acc: 1.0000\n",
      "Epoch 95/100\n",
      "750/750 [==============================] - 0s 47us/sample - loss: 0.0822 - acc: 1.0000\n",
      "Epoch 96/100\n",
      "750/750 [==============================] - 0s 48us/sample - loss: 0.0810 - acc: 1.0000\n",
      "Epoch 97/100\n",
      "750/750 [==============================] - 0s 51us/sample - loss: 0.0797 - acc: 1.0000\n",
      "Epoch 98/100\n",
      "750/750 [==============================] - 0s 47us/sample - loss: 0.0785 - acc: 1.0000\n",
      "Epoch 99/100\n",
      "750/750 [==============================] - 0s 52us/sample - loss: 0.0773 - acc: 1.0000\n",
      "Epoch 100/100\n",
      "750/750 [==============================] - 0s 51us/sample - loss: 0.0761 - acc: 1.0000\n"
     ]
    }
   ],
   "source": [
    "# Fit the model to the training data\n",
    "fit_model = nn_model.fit(X_train_scaled, y_train, epochs=100)"
   ]
  },
  {
   "cell_type": "code",
   "execution_count": 12,
   "metadata": {},
   "outputs": [
    {
     "data": {
      "text/plain": [
       "<matplotlib.axes._subplots.AxesSubplot at 0x1a65ba40f88>"
      ]
     },
     "execution_count": 12,
     "metadata": {},
     "output_type": "execute_result"
    },
    {
     "data": {
      "image/png": "[encoded data removed]",
      "text/plain": [
       "<Figure size 432x288 with 1 Axes>"
      ]
     },
     "metadata": {
      "needs_background": "light"
     },
     "output_type": "display_data"
    }
   ],
   "source": [
    "# Create a DataFrame containing training history\n",
    "history_df = pd.DataFrame(fit_model.history, index=range(1,len(fit_model.history[\"loss\"])+1))\n",
    "\n",
    "# Plot the loss\n",
    "history_df.plot(y=\"loss\")"
   ]
  },
  {
   "cell_type": "code",
   "execution_count": null,
   "metadata": {},
   "outputs": [],
   "source": []
  },
  {
   "cell_type": "code",
   "execution_count": 16,
   "metadata": {},
   "outputs": [
    {
     "name": "stdout",
     "output_type": "stream",
     "text": [
      "250/250 - 0s - loss: 0.0777 - acc: 1.0000\n",
      "Loss: 0.07774293100833893, Accuracy: 1.0\n"
     ]
    }
   ],
   "source": [
    "# Evaluate the model using the test data\n",
    "model_loss, model_accuracy = nn_model.evaluate(X_test_scaled,y_test,verbose=2)\n",
    "print(f\"Loss: {model_loss}, Accuracy: {model_accuracy}\")"
   ]
  },
  {
   "cell_type": "code",
   "execution_count": 17,
   "metadata": {},
   "outputs": [
    {
     "data": {
      "text/plain": [
       "array([[0],\n",
       "       [1],\n",
       "       [0],\n",
       "       [1],\n",
       "       [0],\n",
       "       [0],\n",
       "       [1],\n",
       "       [1],\n",
       "       [1],\n",
       "       [0]])"
      ]
     },
     "execution_count": 17,
     "metadata": {},
     "output_type": "execute_result"
    }
   ],
   "source": [
    "# Predict the classification of a new set of blob data\n",
    "new_X, new_Y = make_blobs(n_samples=10, centers=2, n_features=2, random_state=78)\n",
    "new_X_scaled = X_scaler.transform(new_X)\n",
    "nn_model.predict_classes(new_X_scaled)"
   ]
  },
  {
   "cell_type": "code",
   "execution_count": 18,
   "metadata": {},
   "outputs": [
    {
     "data": {
      "text/plain": [
       "<matplotlib.axes._subplots.AxesSubplot at 0x1a65bdc2f48>"
      ]
     },
     "execution_count": 18,
     "metadata": {},
     "output_type": "execute_result"
    },
    {
     "data": {
      "image/png": "[encoded data removed]",
      "text/plain": [
       "<Figure size 432x288 with 2 Axes>"
      ]
     },
     "metadata": {
      "needs_background": "light"
     },
     "output_type": "display_data"
    }
   ],
   "source": [
    "from sklearn.datasets import make_moons\n",
    "\n",
    "# Creating dummy nonlinear data\n",
    "X_moons, y_moons = make_moons(n_samples=1000, noise=0.08, random_state=78)\n",
    "\n",
    "# Transforming y_moons to a vertical vector\n",
    "y_moons = y_moons.reshape(-1, 1)\n",
    "\n",
    "# Creating a DataFrame to plot the nonlinear dummy data\n",
    "df_moons = pd.DataFrame(X_moons, columns=[\"Feature 1\", \"Feature 2\"])\n",
    "df_moons[\"Target\"] = y_moons\n",
    "\n",
    "# Plot the nonlinear dummy data\n",
    "df_moons.plot.scatter(x=\"Feature 1\",y=\"Feature 2\", c=\"Target\",colormap=\"winter\")"
   ]
  },
  {
   "cell_type": "code",
   "execution_count": 19,
   "metadata": {},
   "outputs": [],
   "source": [
    "# Create training and testing sets\n",
    "X_moon_train, X_moon_test, y_moon_train, y_moon_test = train_test_split(\n",
    "    X_moons, y_moons, random_state=78\n",
    ")\n",
    "\n",
    "# Create the scaler instance\n",
    "X_moon_scaler = skl.preprocessing.StandardScaler()\n",
    "\n",
    "# Fit the scaler\n",
    "X_moon_scaler.fit(X_moon_train)\n",
    "\n",
    "# Scale the data\n",
    "X_moon_train_scaled = X_moon_scaler.transform(X_moon_train)\n",
    "X_moon_test_scaled = X_moon_scaler.transform(X_moon_test)"
   ]
  },
  {
   "cell_type": "code",
   "execution_count": 20,
   "metadata": {},
   "outputs": [
    {
     "name": "stdout",
     "output_type": "stream",
     "text": [
      "Epoch 1/100\n",
      "750/750 [==============================] - 0s 53us/sample - loss: 0.9614 - acc: 0.5187\n",
      "Epoch 2/100\n",
      "750/750 [==============================] - 0s 51us/sample - loss: 0.8781 - acc: 0.5307\n",
      "Epoch 3/100\n",
      "750/750 [==============================] - 0s 62us/sample - loss: 0.8171 - acc: 0.5387\n",
      "Epoch 4/100\n",
      "750/750 [==============================] - 0s 64us/sample - loss: 0.7725 - acc: 0.5467\n",
      "Epoch 5/100\n",
      "750/750 [==============================] - 0s 76us/sample - loss: 0.7396 - acc: 0.5600\n",
      "Epoch 6/100\n",
      "750/750 [==============================] - 0s 59us/sample - loss: 0.7109 - acc: 0.5693\n",
      "Epoch 7/100\n",
      "750/750 [==============================] - 0s 88us/sample - loss: 0.6876 - acc: 0.5760\n",
      "Epoch 8/100\n",
      "750/750 [==============================] - ETA: 0s - loss: 0.6389 - acc: 0.625 - 0s 65us/sample - loss: 0.6668 - acc: 0.5867\n",
      "Epoch 9/100\n",
      "750/750 [==============================] - 0s 62us/sample - loss: 0.6488 - acc: 0.5973\n",
      "Epoch 10/100\n",
      "750/750 [==============================] - 0s 84us/sample - loss: 0.6330 - acc: 0.6093\n",
      "Epoch 11/100\n",
      "750/750 [==============================] - 0s 98us/sample - loss: 0.6187 - acc: 0.61730s - loss: 0.6228 - acc: 0.615\n",
      "Epoch 12/100\n",
      "750/750 [==============================] - 0s 81us/sample - loss: 0.6052 - acc: 0.6213\n",
      "Epoch 13/100\n",
      "750/750 [==============================] - 0s 78us/sample - loss: 0.5935 - acc: 0.6253\n",
      "Epoch 14/100\n",
      "750/750 [==============================] - 0s 72us/sample - loss: 0.5823 - acc: 0.6293\n",
      "Epoch 15/100\n",
      "750/750 [==============================] - 0s 64us/sample - loss: 0.5720 - acc: 0.6373\n",
      "Epoch 16/100\n",
      "750/750 [==============================] - 0s 82us/sample - loss: 0.5622 - acc: 0.6467\n",
      "Epoch 17/100\n",
      "750/750 [==============================] - 0s 63us/sample - loss: 0.5534 - acc: 0.6480\n",
      "Epoch 18/100\n",
      "750/750 [==============================] - 0s 102us/sample - loss: 0.5448 - acc: 0.6533\n",
      "Epoch 19/100\n",
      "750/750 [==============================] - 0s 113us/sample - loss: 0.5368 - acc: 0.6613\n",
      "Epoch 20/100\n",
      "750/750 [==============================] - 0s 89us/sample - loss: 0.5291 - acc: 0.6693\n",
      "Epoch 21/100\n",
      "750/750 [==============================] - 0s 104us/sample - loss: 0.5219 - acc: 0.6733\n",
      "Epoch 22/100\n",
      "750/750 [==============================] - 0s 98us/sample - loss: 0.5150 - acc: 0.6773\n",
      "Epoch 23/100\n",
      "750/750 [==============================] - 0s 60us/sample - loss: 0.5083 - acc: 0.6840\n",
      "Epoch 24/100\n",
      "750/750 [==============================] - 0s 78us/sample - loss: 0.5019 - acc: 0.6907\n",
      "Epoch 25/100\n",
      "750/750 [==============================] - 0s 82us/sample - loss: 0.4956 - acc: 0.6933\n",
      "Epoch 26/100\n",
      "750/750 [==============================] - 0s 85us/sample - loss: 0.4895 - acc: 0.6947\n",
      "Epoch 27/100\n",
      "750/750 [==============================] - 0s 87us/sample - loss: 0.4837 - acc: 0.7000\n",
      "Epoch 28/100\n",
      "750/750 [==============================] - 0s 73us/sample - loss: 0.4779 - acc: 0.7067\n",
      "Epoch 29/100\n",
      "750/750 [==============================] - 0s 72us/sample - loss: 0.4725 - acc: 0.7107\n",
      "Epoch 30/100\n",
      "750/750 [==============================] - 0s 68us/sample - loss: 0.4672 - acc: 0.7147\n",
      "Epoch 31/100\n",
      "750/750 [==============================] - 0s 52us/sample - loss: 0.4620 - acc: 0.7187\n",
      "Epoch 32/100\n",
      "750/750 [==============================] - 0s 45us/sample - loss: 0.4569 - acc: 0.7213\n",
      "Epoch 33/100\n",
      "750/750 [==============================] - 0s 85us/sample - loss: 0.4519 - acc: 0.7307\n",
      "Epoch 34/100\n",
      "750/750 [==============================] - 0s 68us/sample - loss: 0.4470 - acc: 0.7320\n",
      "Epoch 35/100\n",
      "750/750 [==============================] - 0s 94us/sample - loss: 0.4421 - acc: 0.7347\n",
      "Epoch 36/100\n",
      "750/750 [==============================] - 0s 117us/sample - loss: 0.4374 - acc: 0.7387\n",
      "Epoch 37/100\n",
      "750/750 [==============================] - 0s 68us/sample - loss: 0.4327 - acc: 0.7493\n",
      "Epoch 38/100\n",
      "750/750 [==============================] - 0s 68us/sample - loss: 0.4282 - acc: 0.7533\n",
      "Epoch 39/100\n",
      "750/750 [==============================] - 0s 69us/sample - loss: 0.4237 - acc: 0.7547\n",
      "Epoch 40/100\n",
      "750/750 [==============================] - 0s 78us/sample - loss: 0.4193 - acc: 0.7613\n",
      "Epoch 41/100\n",
      "750/750 [==============================] - 0s 110us/sample - loss: 0.4150 - acc: 0.7653\n",
      "Epoch 42/100\n",
      "750/750 [==============================] - 0s 83us/sample - loss: 0.4106 - acc: 0.7653\n",
      "Epoch 43/100\n",
      "750/750 [==============================] - 0s 62us/sample - loss: 0.4063 - acc: 0.7693\n",
      "Epoch 44/100\n",
      "750/750 [==============================] - 0s 68us/sample - loss: 0.4022 - acc: 0.7733\n",
      "Epoch 45/100\n",
      "750/750 [==============================] - 0s 65us/sample - loss: 0.3980 - acc: 0.7787\n",
      "Epoch 46/100\n",
      "750/750 [==============================] - 0s 66us/sample - loss: 0.3938 - acc: 0.7840\n",
      "Epoch 47/100\n",
      "750/750 [==============================] - 0s 68us/sample - loss: 0.3899 - acc: 0.7840\n",
      "Epoch 48/100\n",
      "750/750 [==============================] - 0s 100us/sample - loss: 0.3859 - acc: 0.7893\n",
      "Epoch 49/100\n",
      "750/750 [==============================] - 0s 106us/sample - loss: 0.3820 - acc: 0.7947\n",
      "Epoch 50/100\n",
      "750/750 [==============================] - 0s 86us/sample - loss: 0.3782 - acc: 0.8040\n",
      "Epoch 51/100\n",
      "750/750 [==============================] - 0s 90us/sample - loss: 0.3746 - acc: 0.8053\n",
      "Epoch 52/100\n",
      "750/750 [==============================] - 0s 56us/sample - loss: 0.3709 - acc: 0.8053\n",
      "Epoch 53/100\n",
      "750/750 [==============================] - 0s 57us/sample - loss: 0.3674 - acc: 0.8067\n",
      "Epoch 54/100\n",
      "750/750 [==============================] - 0s 66us/sample - loss: 0.3639 - acc: 0.8107\n",
      "Epoch 55/100\n",
      "750/750 [==============================] - 0s 77us/sample - loss: 0.3607 - acc: 0.8133\n",
      "Epoch 56/100\n",
      "750/750 [==============================] - 0s 52us/sample - loss: 0.3573 - acc: 0.8147\n",
      "Epoch 57/100\n",
      "750/750 [==============================] - 0s 57us/sample - loss: 0.3542 - acc: 0.8187\n",
      "Epoch 58/100\n",
      "750/750 [==============================] - 0s 52us/sample - loss: 0.3512 - acc: 0.8213\n",
      "Epoch 59/100\n",
      "750/750 [==============================] - 0s 56us/sample - loss: 0.3480 - acc: 0.8227\n",
      "Epoch 60/100\n",
      "750/750 [==============================] - 0s 55us/sample - loss: 0.3450 - acc: 0.8227\n",
      "Epoch 61/100\n",
      "750/750 [==============================] - 0s 58us/sample - loss: 0.3422 - acc: 0.8227\n",
      "Epoch 62/100\n",
      "750/750 [==============================] - 0s 51us/sample - loss: 0.3395 - acc: 0.8240\n",
      "Epoch 63/100\n",
      "750/750 [==============================] - 0s 67us/sample - loss: 0.3368 - acc: 0.8267\n",
      "Epoch 64/100\n",
      "750/750 [==============================] - 0s 61us/sample - loss: 0.3343 - acc: 0.8267\n",
      "Epoch 65/100\n",
      "750/750 [==============================] - 0s 67us/sample - loss: 0.3317 - acc: 0.8267\n",
      "Epoch 66/100\n",
      "750/750 [==============================] - 0s 65us/sample - loss: 0.3292 - acc: 0.8280\n",
      "Epoch 67/100\n",
      "750/750 [==============================] - 0s 58us/sample - loss: 0.3270 - acc: 0.8280\n",
      "Epoch 68/100\n",
      "750/750 [==============================] - 0s 56us/sample - loss: 0.3245 - acc: 0.8320\n",
      "Epoch 69/100\n",
      "750/750 [==============================] - 0s 70us/sample - loss: 0.3224 - acc: 0.8320\n",
      "Epoch 70/100\n",
      "750/750 [==============================] - 0s 66us/sample - loss: 0.3200 - acc: 0.8333\n",
      "Epoch 71/100\n",
      "750/750 [==============================] - 0s 69us/sample - loss: 0.3178 - acc: 0.8333\n",
      "Epoch 72/100\n",
      "750/750 [==============================] - 0s 70us/sample - loss: 0.3158 - acc: 0.8387\n",
      "Epoch 73/100\n",
      "750/750 [==============================] - 0s 73us/sample - loss: 0.3138 - acc: 0.8427\n",
      "Epoch 74/100\n",
      "750/750 [==============================] - 0s 68us/sample - loss: 0.3119 - acc: 0.8427\n",
      "Epoch 75/100\n",
      "750/750 [==============================] - 0s 64us/sample - loss: 0.3099 - acc: 0.8440\n",
      "Epoch 76/100\n",
      "750/750 [==============================] - 0s 65us/sample - loss: 0.3079 - acc: 0.8467\n",
      "Epoch 77/100\n",
      "750/750 [==============================] - 0s 60us/sample - loss: 0.3062 - acc: 0.8493\n",
      "Epoch 78/100\n",
      "750/750 [==============================] - 0s 57us/sample - loss: 0.3044 - acc: 0.8520\n",
      "Epoch 79/100\n",
      "750/750 [==============================] - 0s 66us/sample - loss: 0.3027 - acc: 0.8547\n",
      "Epoch 80/100\n",
      "750/750 [==============================] - 0s 66us/sample - loss: 0.3011 - acc: 0.8547\n",
      "Epoch 81/100\n",
      "750/750 [==============================] - 0s 56us/sample - loss: 0.2994 - acc: 0.8573\n",
      "Epoch 82/100\n"
     ]
    },
    {
     "name": "stdout",
     "output_type": "stream",
     "text": [
      "750/750 [==============================] - 0s 55us/sample - loss: 0.2979 - acc: 0.8573\n",
      "Epoch 83/100\n",
      "750/750 [==============================] - 0s 56us/sample - loss: 0.2963 - acc: 0.8587\n",
      "Epoch 84/100\n",
      "750/750 [==============================] - 0s 56us/sample - loss: 0.2949 - acc: 0.8600\n",
      "Epoch 85/100\n",
      "750/750 [==============================] - 0s 51us/sample - loss: 0.2935 - acc: 0.8627\n",
      "Epoch 86/100\n",
      "750/750 [==============================] - 0s 48us/sample - loss: 0.2921 - acc: 0.8653\n",
      "Epoch 87/100\n",
      "750/750 [==============================] - 0s 48us/sample - loss: 0.2907 - acc: 0.8653\n",
      "Epoch 88/100\n",
      "750/750 [==============================] - 0s 48us/sample - loss: 0.2894 - acc: 0.8667\n",
      "Epoch 89/100\n",
      "750/750 [==============================] - 0s 56us/sample - loss: 0.2882 - acc: 0.8680\n",
      "Epoch 90/100\n",
      "750/750 [==============================] - 0s 43us/sample - loss: 0.2870 - acc: 0.8680\n",
      "Epoch 91/100\n",
      "750/750 [==============================] - 0s 51us/sample - loss: 0.2857 - acc: 0.8680\n",
      "Epoch 92/100\n",
      "750/750 [==============================] - 0s 47us/sample - loss: 0.2846 - acc: 0.8680\n",
      "Epoch 93/100\n",
      "750/750 [==============================] - 0s 51us/sample - loss: 0.2835 - acc: 0.8680\n",
      "Epoch 94/100\n",
      "750/750 [==============================] - 0s 49us/sample - loss: 0.2825 - acc: 0.8680\n",
      "Epoch 95/100\n",
      "750/750 [==============================] - 0s 51us/sample - loss: 0.2814 - acc: 0.8707\n",
      "Epoch 96/100\n",
      "750/750 [==============================] - 0s 64us/sample - loss: 0.2804 - acc: 0.8707\n",
      "Epoch 97/100\n",
      "750/750 [==============================] - 0s 65us/sample - loss: 0.2794 - acc: 0.8733\n",
      "Epoch 98/100\n",
      "750/750 [==============================] - 0s 85us/sample - loss: 0.2785 - acc: 0.8747\n",
      "Epoch 99/100\n",
      "750/750 [==============================] - 0s 56us/sample - loss: 0.2776 - acc: 0.8760\n",
      "Epoch 100/100\n",
      "750/750 [==============================] - 0s 51us/sample - loss: 0.2767 - acc: 0.8773\n"
     ]
    }
   ],
   "source": [
    "# Training the model with the nonlinear data\n",
    "model_moon = nn_model.fit(X_moon_train_scaled, y_moon_train, epochs=100, shuffle=True)"
   ]
  },
  {
   "cell_type": "code",
   "execution_count": 21,
   "metadata": {},
   "outputs": [
    {
     "data": {
      "text/plain": [
       "<matplotlib.axes._subplots.AxesSubplot at 0x1a65be77808>"
      ]
     },
     "execution_count": 21,
     "metadata": {},
     "output_type": "execute_result"
    },
    {
     "data": {
      "image/png": "[encoded data removed]",
      "text/plain": [
       "<Figure size 432x288 with 1 Axes>"
      ]
     },
     "metadata": {
      "needs_background": "light"
     },
     "output_type": "display_data"
    }
   ],
   "source": [
    "# Create a DataFrame containing training history\n",
    "history_df = pd.DataFrame(model_moon.history, index=range(1,len(model_moon.history[\"loss\"])+1))\n",
    "\n",
    "# Plot the loss\n",
    "history_df.plot(y=\"loss\")"
   ]
  },
  {
   "cell_type": "code",
   "execution_count": 23,
   "metadata": {},
   "outputs": [],
   "source": [
    "# Generate our new Sequential model\n",
    "new_model = tf.keras.models.Sequential()"
   ]
  },
  {
   "cell_type": "code",
   "execution_count": 24,
   "metadata": {},
   "outputs": [],
   "source": [
    "# Add the input and hidden layer\n",
    "number_inputs = 2\n",
    "number_hidden_nodes = 6\n",
    "\n",
    "new_model.add(tf.keras.layers.Dense(units=number_hidden_nodes, activation=\"relu\", input_dim=number_inputs))\n",
    "\n",
    "# Add the output layer that uses a probability activation function\n",
    "new_model.add(tf.keras.layers.Dense(units=1, activation=\"sigmoid\"))"
   ]
  },
  {
   "cell_type": "code",
   "execution_count": 25,
   "metadata": {},
   "outputs": [
    {
     "name": "stdout",
     "output_type": "stream",
     "text": [
      "Epoch 1/100\n",
      "750/750 [==============================] - 0s 230us/sample - loss: 0.4442 - acc: 0.8613\n",
      "Epoch 2/100\n",
      "750/750 [==============================] - 0s 84us/sample - loss: 0.4212 - acc: 0.8680\n",
      "Epoch 3/100\n",
      "750/750 [==============================] - 0s 82us/sample - loss: 0.4002 - acc: 0.8707\n",
      "Epoch 4/100\n",
      "750/750 [==============================] - 0s 89us/sample - loss: 0.3804 - acc: 0.8720\n",
      "Epoch 5/100\n",
      "750/750 [==============================] - 0s 69us/sample - loss: 0.3629 - acc: 0.8747\n",
      "Epoch 6/100\n",
      "750/750 [==============================] - 0s 64us/sample - loss: 0.3472 - acc: 0.8760\n",
      "Epoch 7/100\n",
      "750/750 [==============================] - 0s 77us/sample - loss: 0.3337 - acc: 0.8760\n",
      "Epoch 8/100\n",
      "750/750 [==============================] - 0s 76us/sample - loss: 0.3218 - acc: 0.8760\n",
      "Epoch 9/100\n",
      "750/750 [==============================] - 0s 76us/sample - loss: 0.3113 - acc: 0.8760\n",
      "Epoch 10/100\n",
      "750/750 [==============================] - 0s 70us/sample - loss: 0.3025 - acc: 0.8773\n",
      "Epoch 11/100\n",
      "750/750 [==============================] - 0s 59us/sample - loss: 0.2946 - acc: 0.8773\n",
      "Epoch 12/100\n",
      "750/750 [==============================] - 0s 64us/sample - loss: 0.2878 - acc: 0.8800\n",
      "Epoch 13/100\n",
      "750/750 [==============================] - 0s 66us/sample - loss: 0.2819 - acc: 0.8827\n",
      "Epoch 14/100\n",
      "750/750 [==============================] - 0s 59us/sample - loss: 0.2768 - acc: 0.8840\n",
      "Epoch 15/100\n",
      "750/750 [==============================] - 0s 64us/sample - loss: 0.2723 - acc: 0.8880\n",
      "Epoch 16/100\n",
      "750/750 [==============================] - 0s 84us/sample - loss: 0.2682 - acc: 0.8893\n",
      "Epoch 17/100\n",
      "750/750 [==============================] - 0s 65us/sample - loss: 0.2650 - acc: 0.8907\n",
      "Epoch 18/100\n",
      "750/750 [==============================] - 0s 84us/sample - loss: 0.2620 - acc: 0.8920\n",
      "Epoch 19/100\n",
      "750/750 [==============================] - 0s 84us/sample - loss: 0.2592 - acc: 0.8933\n",
      "Epoch 20/100\n",
      "750/750 [==============================] - 0s 77us/sample - loss: 0.2569 - acc: 0.8933\n",
      "Epoch 21/100\n",
      "750/750 [==============================] - 0s 67us/sample - loss: 0.2547 - acc: 0.8933\n",
      "Epoch 22/100\n",
      "750/750 [==============================] - 0s 60us/sample - loss: 0.2528 - acc: 0.8933\n",
      "Epoch 23/100\n",
      "750/750 [==============================] - 0s 66us/sample - loss: 0.2511 - acc: 0.8947\n",
      "Epoch 24/100\n",
      "750/750 [==============================] - 0s 70us/sample - loss: 0.2496 - acc: 0.8947\n",
      "Epoch 25/100\n",
      "750/750 [==============================] - 0s 62us/sample - loss: 0.2481 - acc: 0.8960\n",
      "Epoch 26/100\n",
      "750/750 [==============================] - 0s 88us/sample - loss: 0.2468 - acc: 0.8960\n",
      "Epoch 27/100\n",
      "750/750 [==============================] - 0s 100us/sample - loss: 0.2455 - acc: 0.8960\n",
      "Epoch 28/100\n",
      "750/750 [==============================] - 0s 92us/sample - loss: 0.2445 - acc: 0.8960\n",
      "Epoch 29/100\n",
      "750/750 [==============================] - 0s 70us/sample - loss: 0.2433 - acc: 0.8960\n",
      "Epoch 30/100\n",
      "750/750 [==============================] - 0s 77us/sample - loss: 0.2423 - acc: 0.8960\n",
      "Epoch 31/100\n",
      "750/750 [==============================] - 0s 77us/sample - loss: 0.2412 - acc: 0.8960\n",
      "Epoch 32/100\n",
      "750/750 [==============================] - 0s 69us/sample - loss: 0.2404 - acc: 0.8973\n",
      "Epoch 33/100\n",
      "750/750 [==============================] - 0s 51us/sample - loss: 0.2392 - acc: 0.8973\n",
      "Epoch 34/100\n",
      "750/750 [==============================] - 0s 66us/sample - loss: 0.2383 - acc: 0.8973\n",
      "Epoch 35/100\n",
      "750/750 [==============================] - 0s 66us/sample - loss: 0.2374 - acc: 0.8987\n",
      "Epoch 36/100\n",
      "750/750 [==============================] - 0s 62us/sample - loss: 0.2364 - acc: 0.8987\n",
      "Epoch 37/100\n",
      "750/750 [==============================] - 0s 69us/sample - loss: 0.2355 - acc: 0.9000\n",
      "Epoch 38/100\n",
      "750/750 [==============================] - 0s 88us/sample - loss: 0.2348 - acc: 0.9000\n",
      "Epoch 39/100\n",
      "750/750 [==============================] - 0s 94us/sample - loss: 0.2339 - acc: 0.9000\n",
      "Epoch 40/100\n",
      "750/750 [==============================] - 0s 82us/sample - loss: 0.2331 - acc: 0.9013\n",
      "Epoch 41/100\n",
      "750/750 [==============================] - 0s 73us/sample - loss: 0.2323 - acc: 0.9027\n",
      "Epoch 42/100\n",
      "750/750 [==============================] - 0s 72us/sample - loss: 0.2315 - acc: 0.9027\n",
      "Epoch 43/100\n",
      "750/750 [==============================] - 0s 92us/sample - loss: 0.2306 - acc: 0.9027\n",
      "Epoch 44/100\n",
      "750/750 [==============================] - 0s 86us/sample - loss: 0.2299 - acc: 0.9040\n",
      "Epoch 45/100\n",
      "750/750 [==============================] - 0s 94us/sample - loss: 0.2291 - acc: 0.9040\n",
      "Epoch 46/100\n",
      "750/750 [==============================] - 0s 89us/sample - loss: 0.2284 - acc: 0.9040\n",
      "Epoch 47/100\n",
      "750/750 [==============================] - 0s 65us/sample - loss: 0.2274 - acc: 0.9053\n",
      "Epoch 48/100\n",
      "750/750 [==============================] - 0s 60us/sample - loss: 0.2266 - acc: 0.9053\n",
      "Epoch 49/100\n",
      "750/750 [==============================] - 0s 98us/sample - loss: 0.2260 - acc: 0.9040\n",
      "Epoch 50/100\n",
      "750/750 [==============================] - 0s 106us/sample - loss: 0.2251 - acc: 0.9040\n",
      "Epoch 51/100\n",
      "750/750 [==============================] - 0s 72us/sample - loss: 0.2244 - acc: 0.9040\n",
      "Epoch 52/100\n",
      "750/750 [==============================] - 0s 68us/sample - loss: 0.2237 - acc: 0.9040\n",
      "Epoch 53/100\n",
      "750/750 [==============================] - 0s 80us/sample - loss: 0.2231 - acc: 0.9053\n",
      "Epoch 54/100\n",
      "750/750 [==============================] - 0s 84us/sample - loss: 0.2223 - acc: 0.9053\n",
      "Epoch 55/100\n",
      "750/750 [==============================] - 0s 69us/sample - loss: 0.2216 - acc: 0.9040\n",
      "Epoch 56/100\n",
      "750/750 [==============================] - 0s 65us/sample - loss: 0.2208 - acc: 0.9040\n",
      "Epoch 57/100\n",
      "750/750 [==============================] - 0s 53us/sample - loss: 0.2200 - acc: 0.9053\n",
      "Epoch 58/100\n",
      "750/750 [==============================] - 0s 69us/sample - loss: 0.2193 - acc: 0.9067\n",
      "Epoch 59/100\n",
      "750/750 [==============================] - 0s 64us/sample - loss: 0.2186 - acc: 0.9053\n",
      "Epoch 60/100\n",
      "750/750 [==============================] - 0s 72us/sample - loss: 0.2179 - acc: 0.9053\n",
      "Epoch 61/100\n",
      "750/750 [==============================] - 0s 69us/sample - loss: 0.2171 - acc: 0.9053\n",
      "Epoch 62/100\n",
      "750/750 [==============================] - 0s 64us/sample - loss: 0.2164 - acc: 0.9053\n",
      "Epoch 63/100\n",
      "750/750 [==============================] - 0s 63us/sample - loss: 0.2157 - acc: 0.9053\n",
      "Epoch 64/100\n",
      "750/750 [==============================] - 0s 60us/sample - loss: 0.2151 - acc: 0.9067\n",
      "Epoch 65/100\n",
      "750/750 [==============================] - 0s 62us/sample - loss: 0.2142 - acc: 0.9067\n",
      "Epoch 66/100\n",
      "750/750 [==============================] - 0s 57us/sample - loss: 0.2135 - acc: 0.9067\n",
      "Epoch 67/100\n",
      "750/750 [==============================] - 0s 49us/sample - loss: 0.2128 - acc: 0.9080\n",
      "Epoch 68/100\n",
      "750/750 [==============================] - 0s 61us/sample - loss: 0.2121 - acc: 0.9093\n",
      "Epoch 69/100\n",
      "750/750 [==============================] - 0s 64us/sample - loss: 0.2115 - acc: 0.9093\n",
      "Epoch 70/100\n",
      "750/750 [==============================] - 0s 53us/sample - loss: 0.2107 - acc: 0.9080\n",
      "Epoch 71/100\n",
      "750/750 [==============================] - 0s 68us/sample - loss: 0.2102 - acc: 0.9080\n",
      "Epoch 72/100\n",
      "750/750 [==============================] - 0s 66us/sample - loss: 0.2093 - acc: 0.9080\n",
      "Epoch 73/100\n",
      "750/750 [==============================] - 0s 65us/sample - loss: 0.2086 - acc: 0.9080\n",
      "Epoch 74/100\n",
      "750/750 [==============================] - 0s 59us/sample - loss: 0.2079 - acc: 0.9080\n",
      "Epoch 75/100\n",
      "750/750 [==============================] - 0s 59us/sample - loss: 0.2072 - acc: 0.9080\n",
      "Epoch 76/100\n",
      "750/750 [==============================] - 0s 61us/sample - loss: 0.2065 - acc: 0.9093\n",
      "Epoch 77/100\n",
      "750/750 [==============================] - 0s 61us/sample - loss: 0.2057 - acc: 0.9107\n",
      "Epoch 78/100\n",
      "750/750 [==============================] - 0s 68us/sample - loss: 0.2051 - acc: 0.9133\n",
      "Epoch 79/100\n",
      "750/750 [==============================] - 0s 65us/sample - loss: 0.2044 - acc: 0.9133\n",
      "Epoch 80/100\n",
      "750/750 [==============================] - 0s 72us/sample - loss: 0.2037 - acc: 0.9120\n",
      "Epoch 81/100\n",
      "750/750 [==============================] - 0s 57us/sample - loss: 0.2030 - acc: 0.9133\n",
      "Epoch 82/100\n",
      "750/750 [==============================] - 0s 56us/sample - loss: 0.2024 - acc: 0.9133\n"
     ]
    },
    {
     "name": "stdout",
     "output_type": "stream",
     "text": [
      "Epoch 83/100\n",
      "750/750 [==============================] - 0s 53us/sample - loss: 0.2017 - acc: 0.9133\n",
      "Epoch 84/100\n",
      "750/750 [==============================] - 0s 53us/sample - loss: 0.2011 - acc: 0.9147\n",
      "Epoch 85/100\n",
      "750/750 [==============================] - 0s 49us/sample - loss: 0.2006 - acc: 0.9133\n",
      "Epoch 86/100\n",
      "750/750 [==============================] - 0s 55us/sample - loss: 0.1997 - acc: 0.9133\n",
      "Epoch 87/100\n",
      "750/750 [==============================] - 0s 48us/sample - loss: 0.1992 - acc: 0.9133\n",
      "Epoch 88/100\n",
      "750/750 [==============================] - 0s 53us/sample - loss: 0.1985 - acc: 0.9133\n",
      "Epoch 89/100\n",
      "750/750 [==============================] - 0s 56us/sample - loss: 0.1979 - acc: 0.9133\n",
      "Epoch 90/100\n",
      "750/750 [==============================] - 0s 55us/sample - loss: 0.1973 - acc: 0.9120\n",
      "Epoch 91/100\n",
      "750/750 [==============================] - 0s 80us/sample - loss: 0.1965 - acc: 0.9120\n",
      "Epoch 92/100\n",
      "750/750 [==============================] - 0s 64us/sample - loss: 0.1958 - acc: 0.9133\n",
      "Epoch 93/100\n",
      "750/750 [==============================] - 0s 73us/sample - loss: 0.1951 - acc: 0.9133\n",
      "Epoch 94/100\n",
      "750/750 [==============================] - 0s 65us/sample - loss: 0.1945 - acc: 0.9133\n",
      "Epoch 95/100\n",
      "750/750 [==============================] - 0s 49us/sample - loss: 0.1938 - acc: 0.9133\n",
      "Epoch 96/100\n",
      "750/750 [==============================] - 0s 55us/sample - loss: 0.1932 - acc: 0.9133\n",
      "Epoch 97/100\n",
      "750/750 [==============================] - 0s 56us/sample - loss: 0.1926 - acc: 0.9133\n",
      "Epoch 98/100\n",
      "750/750 [==============================] - 0s 51us/sample - loss: 0.1918 - acc: 0.9147\n",
      "Epoch 99/100\n",
      "750/750 [==============================] - 0s 44us/sample - loss: 0.1911 - acc: 0.9147\n",
      "Epoch 100/100\n",
      "750/750 [==============================] - 0s 57us/sample - loss: 0.1903 - acc: 0.9160\n"
     ]
    }
   ],
   "source": [
    "# Compile the Sequential model together and customize metrics\n",
    "new_model.compile(loss=\"binary_crossentropy\", optimizer=\"adam\", metrics=[\"accuracy\"])\n",
    "\n",
    "# Fit the model to the training data\n",
    "new_fit_model = new_model.fit(X_moon_train_scaled, y_moon_train, epochs=100, shuffle=True)"
   ]
  },
  {
   "cell_type": "code",
   "execution_count": null,
   "metadata": {},
   "outputs": [],
   "source": []
  }
 ],
 "metadata": {
  "kernelspec": {
   "display_name": "PythonData",
   "language": "python",
   "name": "pythondata"
  },
  "language_info": {
   "codemirror_mode": {
    "name": "ipython",
    "version": 3
   },
   "file_extension": ".py",
   "mimetype": "text/x-python",
   "name": "python",
   "nbconvert_exporter": "python",
   "pygments_lexer": "ipython3",
   "version": "3.7.6"
  }
 },
 "nbformat": 4,
 "nbformat_minor": 4
}
